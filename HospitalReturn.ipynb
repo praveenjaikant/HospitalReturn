{
 "cells": [
  {
   "cell_type": "markdown",
   "metadata": {},
   "source": [
    "## Predicting Hospital Return Rates Using Data Science\n",
    "\n",
    "This dataset contains information collected from five hospitals concerning patient information, including, but not limited to, arrival and departure data. Both the hospitals’ and patients’ details have been anonymized for privacy protection. The data was collected in order to identify patients who would need to be readmitted to the hospital within 30 days, which is relayed in the RETURN variable. If RETURN is 0, the patient did not need to return to the hospital within 30 days. If RETURN is 1, then the patient did return. The data is separated into two CSV files, one each for training and testing data.\n",
    "\n",
    "In order to build models that could determine if patients would need to return to the hospital, I decided to use accuracy as our performance measure. While classifying a person who must return to the hospital is extremely important so he/she may receive the proper medical care he/she needs, it is also important to properly classify people who do not need to return to the hospital. Asking a healthy person to return to the hospital would not only be an inconvenience for the patient, but it would also cause unnecessary stress to the returning patient. This notebook includes exploratory analysis as well as implementation of machine learning models to understand the best method to correctly predict if a patient returns to the hospital or not."
   ]
  },
  {
   "cell_type": "markdown",
   "metadata": {},
   "source": [
    "### Importing Required Packages"
   ]
  },
  {
   "cell_type": "code",
   "execution_count": 1,
   "metadata": {},
   "outputs": [],
   "source": [
    "# Importing required packages\n",
    "\n",
    "import pandas as pd\n",
    "import numpy as np\n",
    "import matplotlib.pyplot as plt\n",
    "from dateutil.parser import parse\n",
    "\n",
    "from sklearn.linear_model import LogisticRegression\n",
    "from sklearn.model_selection import train_test_split\n",
    "from sklearn import preprocessing\n",
    "import statsmodels.api as sm\n",
    "from sklearn.metrics import roc_auc_score\n",
    "from sklearn.metrics import auc\n",
    "from sklearn.metrics import roc_curve\n",
    "from sklearn.metrics import confusion_matrix\n",
    "from sklearn.metrics import accuracy_score\n",
    "\n",
    "from sklearn.tree import DecisionTreeClassifier\n",
    "from sklearn.externals.six import StringIO  \n",
    "from IPython.display import Image  \n",
    "from sklearn.tree import export_graphviz\n",
    "#import pydotplus\n",
    "\n",
    "from sklearn.ensemble import RandomForestClassifier,BaggingClassifier\n",
    "\n",
    "import seaborn as sns\n",
    "import matplotlib.pyplot as plt \n",
    "from matplotlib.colors import ListedColormap\n",
    "\n",
    "from sklearn.preprocessing import StandardScaler\n",
    "from sklearn.neighbors import KNeighborsClassifier\n",
    "\n",
    "from numpy import loadtxt\n",
    "from xgboost import XGBClassifier"
   ]
  },
  {
   "cell_type": "markdown",
   "metadata": {},
   "source": [
    "### Brief Description Of Dataset"
   ]
  },
  {
   "cell_type": "code",
   "execution_count": 2,
   "metadata": {},
   "outputs": [
    {
     "data": {
      "text/html": [
       "<div>\n",
       "<style scoped>\n",
       "    .dataframe tbody tr th:only-of-type {\n",
       "        vertical-align: middle;\n",
       "    }\n",
       "\n",
       "    .dataframe tbody tr th {\n",
       "        vertical-align: top;\n",
       "    }\n",
       "\n",
       "    .dataframe thead th {\n",
       "        text-align: right;\n",
       "    }\n",
       "</style>\n",
       "<table border=\"1\" class=\"dataframe\">\n",
       "  <thead>\n",
       "    <tr style=\"text-align: right;\">\n",
       "      <th></th>\n",
       "      <th>Variable Description</th>\n",
       "    </tr>\n",
       "    <tr>\n",
       "      <th>Variable Name</th>\n",
       "      <th></th>\n",
       "    </tr>\n",
       "  </thead>\n",
       "  <tbody>\n",
       "    <tr>\n",
       "      <th>INDEX</th>\n",
       "      <td>A unique numerical index for each patient visit (used for maintaining the order of patient records in the data set)</td>\n",
       "    </tr>\n",
       "    <tr>\n",
       "      <th>HOSPITAL</th>\n",
       "      <td>The hospital at which the patient was seen (through the emergency department)</td>\n",
       "    </tr>\n",
       "    <tr>\n",
       "      <th>GENDER</th>\n",
       "      <td>Gender of the patient (Male or Female)</td>\n",
       "    </tr>\n",
       "    <tr>\n",
       "      <th>AGE</th>\n",
       "      <td>Age of the patient</td>\n",
       "    </tr>\n",
       "    <tr>\n",
       "      <th>RACE</th>\n",
       "      <td>Race of the patient</td>\n",
       "    </tr>\n",
       "    <tr>\n",
       "      <th>ETHNICITY</th>\n",
       "      <td>Ethnicity of the patient (i.e., is the patient of Hispanic or Latino heritage)</td>\n",
       "    </tr>\n",
       "    <tr>\n",
       "      <th>FINANCIAL_CLASS</th>\n",
       "      <td>The primary method of insurance/payment the patient used</td>\n",
       "    </tr>\n",
       "    <tr>\n",
       "      <th>WEEKDAY_ARR</th>\n",
       "      <td>On which day of the week did the patient arrive (1 = Sunday through 7 = Saturday)</td>\n",
       "    </tr>\n",
       "    <tr>\n",
       "      <th>HOUR_ARR</th>\n",
       "      <td>At what hour of the day did the patient arrive (0 = 00:00 to 00:59, 1 = 01:00 to 01:59, etc. through 23 = 23:00 to 23:59)</td>\n",
       "    </tr>\n",
       "    <tr>\n",
       "      <th>MONTH_ARR</th>\n",
       "      <td>During which month of the year did the patient arrive (1 = January through 12 = December)</td>\n",
       "    </tr>\n",
       "    <tr>\n",
       "      <th>WEEKDAY_DEP</th>\n",
       "      <td>On which day of the week did the patient depart (1 = Sunday through 7 = Saturday)</td>\n",
       "    </tr>\n",
       "    <tr>\n",
       "      <th>HOUR_DEP</th>\n",
       "      <td>At what hour of the day did the patient depart (0 = 00:00 to 00:59, 1 = 01:00 to 01:59, etc. through 23 = 23:00 to 23:59)</td>\n",
       "    </tr>\n",
       "    <tr>\n",
       "      <th>MONTH_DEP</th>\n",
       "      <td>During which month of the year did the patient depart (1 = January through 12 = December)</td>\n",
       "    </tr>\n",
       "    <tr>\n",
       "      <th>SAME_DAY</th>\n",
       "      <td>Did the patient enter and leave the emergency room on the same day (1 = Yes, 0 = No)</td>\n",
       "    </tr>\n",
       "    <tr>\n",
       "      <th>ED_RESULT</th>\n",
       "      <td>The disposition of the patient from the emergency department, indicating what happened to the patient after leaving the emergency room</td>\n",
       "    </tr>\n",
       "    <tr>\n",
       "      <th>ACUITY_ARR</th>\n",
       "      <td>A measurement of patient acuity (i.e., severity of distress) at hospital entry</td>\n",
       "    </tr>\n",
       "    <tr>\n",
       "      <th>DC_RESULT</th>\n",
       "      <td>Details on the discharge of the patient (either from the emergency room or from the hospital itself)</td>\n",
       "    </tr>\n",
       "    <tr>\n",
       "      <th>ADMIT_RESULT</th>\n",
       "      <td>If patient was admitted to the hospital, what type of admission was it</td>\n",
       "    </tr>\n",
       "    <tr>\n",
       "      <th>CONSULT_ORDER</th>\n",
       "      <td>Was a consultation by a speciality physician requested for this patient (1 = Yes, 0 = No)</td>\n",
       "    </tr>\n",
       "    <tr>\n",
       "      <th>CONSULT_CHARGE</th>\n",
       "      <td>Was a consultation by a speciality physician charged for this patient (1 = Yes, 0 = No)</td>\n",
       "    </tr>\n",
       "    <tr>\n",
       "      <th>CONSULT_IN_ED</th>\n",
       "      <td>Did a consultation request for this patient originate in the emergency department (1 = Yes, 0 = No)</td>\n",
       "    </tr>\n",
       "    <tr>\n",
       "      <th>DIAGNOSIS</th>\n",
       "      <td>Was a primary diagnosis entered for this patient (Yes or No)</td>\n",
       "    </tr>\n",
       "    <tr>\n",
       "      <th>DIAG_DETAILS</th>\n",
       "      <td>How many details were entered into the patient record along with a primary diagnosis (in number of words)</td>\n",
       "    </tr>\n",
       "    <tr>\n",
       "      <th>RISK</th>\n",
       "      <td>What is the patient's risk of death (Minor, Moderate, Major, or Extreme)</td>\n",
       "    </tr>\n",
       "    <tr>\n",
       "      <th>SEVERITY</th>\n",
       "      <td>What is the patient's severity of injury or illness (Minor, Moderate, Major, or Extreme)</td>\n",
       "    </tr>\n",
       "    <tr>\n",
       "      <th>CHARGES</th>\n",
       "      <td>How much in total was the patient charged for the visit (in US dollars)</td>\n",
       "    </tr>\n",
       "  </tbody>\n",
       "</table>\n",
       "</div>"
      ],
      "text/plain": [
       "                                                                                                                                   Variable Description\n",
       "Variable Name                                                                                                                                          \n",
       "INDEX                               A unique numerical index for each patient visit (used for maintaining the order of patient records in the data set)\n",
       "HOSPITAL                                                                  The hospital at which the patient was seen (through the emergency department)\n",
       "GENDER                                                                                                           Gender of the patient (Male or Female)\n",
       "AGE                                                                                                                                  Age of the patient\n",
       "RACE                                                                                                                                Race of the patient\n",
       "ETHNICITY                                                                Ethnicity of the patient (i.e., is the patient of Hispanic or Latino heritage)\n",
       "FINANCIAL_CLASS                                                                                The primary method of insurance/payment the patient used\n",
       "WEEKDAY_ARR                                                           On which day of the week did the patient arrive (1 = Sunday through 7 = Saturday)\n",
       "HOUR_ARR                      At what hour of the day did the patient arrive (0 = 00:00 to 00:59, 1 = 01:00 to 01:59, etc. through 23 = 23:00 to 23:59)\n",
       "MONTH_ARR                                                     During which month of the year did the patient arrive (1 = January through 12 = December)\n",
       "WEEKDAY_DEP                                                           On which day of the week did the patient depart (1 = Sunday through 7 = Saturday)\n",
       "HOUR_DEP                      At what hour of the day did the patient depart (0 = 00:00 to 00:59, 1 = 01:00 to 01:59, etc. through 23 = 23:00 to 23:59)\n",
       "MONTH_DEP                                                     During which month of the year did the patient depart (1 = January through 12 = December)\n",
       "SAME_DAY                                                           Did the patient enter and leave the emergency room on the same day (1 = Yes, 0 = No)\n",
       "ED_RESULT        The disposition of the patient from the emergency department, indicating what happened to the patient after leaving the emergency room\n",
       "ACUITY_ARR                                                               A measurement of patient acuity (i.e., severity of distress) at hospital entry\n",
       "DC_RESULT                                          Details on the discharge of the patient (either from the emergency room or from the hospital itself)\n",
       "ADMIT_RESULT                                                                     If patient was admitted to the hospital, what type of admission was it\n",
       "CONSULT_ORDER                                                 Was a consultation by a speciality physician requested for this patient (1 = Yes, 0 = No)\n",
       "CONSULT_CHARGE                                                  Was a consultation by a speciality physician charged for this patient (1 = Yes, 0 = No)\n",
       "CONSULT_IN_ED                                       Did a consultation request for this patient originate in the emergency department (1 = Yes, 0 = No)\n",
       "DIAGNOSIS                                                                                  Was a primary diagnosis entered for this patient (Yes or No)\n",
       "DIAG_DETAILS                                  How many details were entered into the patient record along with a primary diagnosis (in number of words)\n",
       "RISK                                                                           What is the patient's risk of death (Minor, Moderate, Major, or Extreme)\n",
       "SEVERITY                                                       What is the patient's severity of injury or illness (Minor, Moderate, Major, or Extreme)\n",
       "CHARGES                                                                         How much in total was the patient charged for the visit (in US dollars)"
      ]
     },
     "execution_count": 2,
     "metadata": {},
     "output_type": "execute_result"
    }
   ],
   "source": [
    "metadata = pd.read_excel('Hospitals_Dictionary.xlsx')\n",
    "pd.set_option('max_colwidth', 600)\n",
    "metadata.set_index('Variable Name')"
   ]
  },
  {
   "cell_type": "code",
   "execution_count": 3,
   "metadata": {},
   "outputs": [],
   "source": [
    "train_data = pd.read_csv('Hospitals_Train.csv')\n",
    "test_data  = pd.read_csv('Hospitals_Test_X.csv')\n",
    "test_data_y = pd.read_csv('Hospitals_Test_Y_data.csv')"
   ]
  },
  {
   "cell_type": "code",
   "execution_count": 4,
   "metadata": {},
   "outputs": [
    {
     "data": {
      "text/plain": [
       "array(['Home or Self Care', 'LEFT W/O BEING SEEN BEFORE TRIAGE',\n",
       "       'Home Health Care Svc',\n",
       "       'Discharge to acute care (medical/surgical) hospital',\n",
       "       'LEFT W/O BEING SEEN AFTER TRIAGE',\n",
       "       'Not specified Other or Unknown', 'Expired', 'Rehab Facility',\n",
       "       'Discharge to Juvenile/Adult Detention or Police Custody',\n",
       "       'LEFT W/O COMPLETED TREATMENT', 'Left Against Medical Advice',\n",
       "       'To this institution for OP services as specified by the disch plan of care - OP Only',\n",
       "       'Psychiatric Unit or Psychiatric Hospital',\n",
       "       'Discharged to Other Facility', 'Skilled Nursing Facility',\n",
       "       'Left Prior to Exam', 'Discharge to Shelters',\n",
       "       'Hospice/Medical Facility',\n",
       "       'Discharge to Onsite Chronic From Acute',\n",
       "       'Admitted as an Inpatient - OP Only',\n",
       "       'To another institution for OP services as spec. by the disch plan of care - OP Only',\n",
       "       'Hospice/Home',\n",
       "       'Discharge to on-site distinct psychiatric unit from acute care - IP Only',\n",
       "       'Long Term Care', 'Discharge to Residential Treatment Center',\n",
       "       'Discharge to Supervised/Congregate House', 'Still a Patient',\n",
       "       'AWOL - IP Only',\n",
       "       'Discharge to Substance Abuse Rehabilitation Facility',\n",
       "       'Administrative Discharge - IP Only', nan,\n",
       "       'Discharge to a chronic hospital - IP Only',\n",
       "       'Nursing Facility - IP Only', 'ER to Trauma',\n",
       "       'Discharge to State Psychiatric Hospital care hospital',\n",
       "       'Intermediate Care Facility',\n",
       "       'Discharge to on-site distinct rehabilitation unit from acute care - IP Only'],\n",
       "      dtype=object)"
      ]
     },
     "execution_count": 4,
     "metadata": {},
     "output_type": "execute_result"
    }
   ],
   "source": [
    "train_data.DC_RESULT.unique()"
   ]
  },
  {
   "cell_type": "code",
   "execution_count": 5,
   "metadata": {},
   "outputs": [],
   "source": [
    "def preprocess_data(input_df):\n",
    "    input_df.set_index('INDEX', inplace=True) # setting INDEX as index\n",
    "    columns = ['GENDER','RACE','ETHNICITY','FINANCIAL_CLASS','ED_RESULT','ACUITY_ARR','DC_RESULT','ADMIT_RESULT','CONSULT_IN_ED',\n",
    "               'RISK','SEVERITY']\n",
    "    \n",
    "    input_df['CHARGES'] = np.where(input_df['CHARGES']=='#VALUE!',np.nan,input_df['CHARGES'])\n",
    "    input_df['CHARGES'] = input_df['CHARGES'].astype(float)\n",
    "    input_df['CHARGES'].fillna((input_df['CHARGES'].mean()), inplace=True)\n",
    "    \n",
    "    for col in columns:\n",
    "        if (col != 'CONSULT_IN_ED'):\n",
    "            input_df[col] = input_df[col].replace(np.nan, 'Unknown', regex=True) # replacing NaNs with Unknown\n",
    "        else:\n",
    "            input_df[col] = input_df[col].replace(np.nan, 0, regex=True) # replacing NaNs with 0\n",
    "            \n",
    "    # getting top 10 DC_RESULT categories \n",
    "    top_dc_results= list(dict(input_df.groupby('DC_RESULT').agg('count')['HOSPITAL'].sort_values(ascending=False)[0:10]).keys())\n",
    "    # classifying DC_RESULT into top 10 categories OR 'Other'\n",
    "    input_df['DC_RESULT'] = pd.Series(np.where(input_df['DC_RESULT'].isin(top_dc_results), input_df['DC_RESULT'], 'Other'),input_df.index)\n",
    "    \n",
    "    # if month of arrival and month of departure are not same, then he has stayed for slightly longer\n",
    "    input_df['LONGSTAY']  = np.where(input_df.MONTH_ARR != input_df.MONTH_DEP, 1, 0)\n",
    "    \n",
    "    # removing columns that are not useful\n",
    "    input_df.drop(['WEEKDAY_ARR','WEEKDAY_DEP','HOUR_ARR','HOUR_DEP','MONTH_ARR','MONTH_ARR','MONTH_DEP'], axis=1, inplace=True)\n",
    "    \n",
    "    return input_df"
   ]
  },
  {
   "cell_type": "code",
   "execution_count": 6,
   "metadata": {},
   "outputs": [],
   "source": [
    "df_train = preprocess_data(train_data) # pre-processing and getting new dataset\n",
    "df_test  = preprocess_data(test_data) # pre-processing and getting new dataset"
   ]
  },
  {
   "cell_type": "code",
   "execution_count": 7,
   "metadata": {},
   "outputs": [
    {
     "name": "stderr",
     "output_type": "stream",
     "text": [
      "C:\\Users\\prave\\Anaconda3\\lib\\site-packages\\ipykernel_launcher.py:3: SettingWithCopyWarning: \n",
      "A value is trying to be set on a copy of a slice from a DataFrame.\n",
      "Try using .loc[row_indexer,col_indexer] = value instead\n",
      "\n",
      "See the caveats in the documentation: http://pandas.pydata.org/pandas-docs/stable/indexing.html#indexing-view-versus-copy\n",
      "  This is separate from the ipykernel package so we can avoid doing imports until\n"
     ]
    }
   ],
   "source": [
    "df_train = df_train.dropna(subset=['RETURN']) # dropping rows that have NaN for predictor variable RETURN\n",
    "# Re-classifying RETURN into binary values\n",
    "df_train['RETURN'] = pd.Series(np.where(df_train['RETURN'] == 'Yes', 1, 0),df_train.index) "
   ]
  },
  {
   "cell_type": "markdown",
   "metadata": {},
   "source": [
    "#### Brief look at the dataset"
   ]
  },
  {
   "cell_type": "code",
   "execution_count": 8,
   "metadata": {},
   "outputs": [
    {
     "data": {
      "text/html": [
       "<div>\n",
       "<style scoped>\n",
       "    .dataframe tbody tr th:only-of-type {\n",
       "        vertical-align: middle;\n",
       "    }\n",
       "\n",
       "    .dataframe tbody tr th {\n",
       "        vertical-align: top;\n",
       "    }\n",
       "\n",
       "    .dataframe thead th {\n",
       "        text-align: right;\n",
       "    }\n",
       "</style>\n",
       "<table border=\"1\" class=\"dataframe\">\n",
       "  <thead>\n",
       "    <tr style=\"text-align: right;\">\n",
       "      <th></th>\n",
       "      <th>HOSPITAL</th>\n",
       "      <th>GENDER</th>\n",
       "      <th>AGE</th>\n",
       "      <th>RACE</th>\n",
       "      <th>ETHNICITY</th>\n",
       "      <th>FINANCIAL_CLASS</th>\n",
       "      <th>SAME_DAY</th>\n",
       "      <th>ED_RESULT</th>\n",
       "      <th>ACUITY_ARR</th>\n",
       "      <th>DC_RESULT</th>\n",
       "      <th>...</th>\n",
       "      <th>CONSULT_ORDER</th>\n",
       "      <th>CONSULT_CHARGE</th>\n",
       "      <th>CONSULT_IN_ED</th>\n",
       "      <th>DIAGNOSIS</th>\n",
       "      <th>DIAG_DETAILS</th>\n",
       "      <th>RISK</th>\n",
       "      <th>SEVERITY</th>\n",
       "      <th>CHARGES</th>\n",
       "      <th>RETURN</th>\n",
       "      <th>LONGSTAY</th>\n",
       "    </tr>\n",
       "    <tr>\n",
       "      <th>INDEX</th>\n",
       "      <th></th>\n",
       "      <th></th>\n",
       "      <th></th>\n",
       "      <th></th>\n",
       "      <th></th>\n",
       "      <th></th>\n",
       "      <th></th>\n",
       "      <th></th>\n",
       "      <th></th>\n",
       "      <th></th>\n",
       "      <th></th>\n",
       "      <th></th>\n",
       "      <th></th>\n",
       "      <th></th>\n",
       "      <th></th>\n",
       "      <th></th>\n",
       "      <th></th>\n",
       "      <th></th>\n",
       "      <th></th>\n",
       "      <th></th>\n",
       "      <th></th>\n",
       "    </tr>\n",
       "  </thead>\n",
       "  <tbody>\n",
       "    <tr>\n",
       "      <th>1.0</th>\n",
       "      <td>Hospital C</td>\n",
       "      <td>Female</td>\n",
       "      <td>27.0</td>\n",
       "      <td>Black or African American</td>\n",
       "      <td>Not Hispanic or Latino</td>\n",
       "      <td>MA MCO</td>\n",
       "      <td>0.0</td>\n",
       "      <td>Admit</td>\n",
       "      <td>3-Urgent</td>\n",
       "      <td>Home or Self Care</td>\n",
       "      <td>...</td>\n",
       "      <td>0.0</td>\n",
       "      <td>0.0</td>\n",
       "      <td>0.0</td>\n",
       "      <td>Yes</td>\n",
       "      <td>4.0</td>\n",
       "      <td>Minor</td>\n",
       "      <td>Moderate</td>\n",
       "      <td>9709.43</td>\n",
       "      <td>1</td>\n",
       "      <td>0</td>\n",
       "    </tr>\n",
       "    <tr>\n",
       "      <th>2.0</th>\n",
       "      <td>Hospital E</td>\n",
       "      <td>Female</td>\n",
       "      <td>43.0</td>\n",
       "      <td>Black or African American</td>\n",
       "      <td>Not Hispanic or Latino</td>\n",
       "      <td>MA MCO</td>\n",
       "      <td>1.0</td>\n",
       "      <td>Left prior to completing treatment</td>\n",
       "      <td>3-Urgent</td>\n",
       "      <td>Home or Self Care</td>\n",
       "      <td>...</td>\n",
       "      <td>0.0</td>\n",
       "      <td>0.0</td>\n",
       "      <td>0.0</td>\n",
       "      <td>Yes</td>\n",
       "      <td>0.0</td>\n",
       "      <td>Unknown</td>\n",
       "      <td>Unknown</td>\n",
       "      <td>2371.55</td>\n",
       "      <td>0</td>\n",
       "      <td>0</td>\n",
       "    </tr>\n",
       "    <tr>\n",
       "      <th>3.0</th>\n",
       "      <td>Hospital E</td>\n",
       "      <td>Male</td>\n",
       "      <td>24.0</td>\n",
       "      <td>Black or African American</td>\n",
       "      <td>Not Hispanic or Latino</td>\n",
       "      <td>MA MCO</td>\n",
       "      <td>1.0</td>\n",
       "      <td>Discharge</td>\n",
       "      <td>4-Less Urgent</td>\n",
       "      <td>Home or Self Care</td>\n",
       "      <td>...</td>\n",
       "      <td>0.0</td>\n",
       "      <td>0.0</td>\n",
       "      <td>0.0</td>\n",
       "      <td>Yes</td>\n",
       "      <td>0.0</td>\n",
       "      <td>Unknown</td>\n",
       "      <td>Unknown</td>\n",
       "      <td>407.36</td>\n",
       "      <td>0</td>\n",
       "      <td>0</td>\n",
       "    </tr>\n",
       "    <tr>\n",
       "      <th>4.0</th>\n",
       "      <td>Hospital B</td>\n",
       "      <td>Female</td>\n",
       "      <td>24.0</td>\n",
       "      <td>Black or African American</td>\n",
       "      <td>Not Hispanic or Latino</td>\n",
       "      <td>MA MCO</td>\n",
       "      <td>1.0</td>\n",
       "      <td>Discharge</td>\n",
       "      <td>3-Urgent</td>\n",
       "      <td>Home or Self Care</td>\n",
       "      <td>...</td>\n",
       "      <td>0.0</td>\n",
       "      <td>0.0</td>\n",
       "      <td>0.0</td>\n",
       "      <td>Yes</td>\n",
       "      <td>0.0</td>\n",
       "      <td>Unknown</td>\n",
       "      <td>Unknown</td>\n",
       "      <td>3018.71</td>\n",
       "      <td>0</td>\n",
       "      <td>0</td>\n",
       "    </tr>\n",
       "    <tr>\n",
       "      <th>5.0</th>\n",
       "      <td>Hospital E</td>\n",
       "      <td>Male</td>\n",
       "      <td>31.0</td>\n",
       "      <td>Other</td>\n",
       "      <td>Hispanic or Latino</td>\n",
       "      <td>Commercial</td>\n",
       "      <td>1.0</td>\n",
       "      <td>Discharge</td>\n",
       "      <td>4-Less Urgent</td>\n",
       "      <td>Home or Self Care</td>\n",
       "      <td>...</td>\n",
       "      <td>0.0</td>\n",
       "      <td>0.0</td>\n",
       "      <td>0.0</td>\n",
       "      <td>Yes</td>\n",
       "      <td>0.0</td>\n",
       "      <td>Unknown</td>\n",
       "      <td>Unknown</td>\n",
       "      <td>1045.68</td>\n",
       "      <td>0</td>\n",
       "      <td>0</td>\n",
       "    </tr>\n",
       "  </tbody>\n",
       "</table>\n",
       "<p>5 rows × 21 columns</p>\n",
       "</div>"
      ],
      "text/plain": [
       "         HOSPITAL  GENDER   AGE                       RACE  \\\n",
       "INDEX                                                        \n",
       "1.0    Hospital C  Female  27.0  Black or African American   \n",
       "2.0    Hospital E  Female  43.0  Black or African American   \n",
       "3.0    Hospital E    Male  24.0  Black or African American   \n",
       "4.0    Hospital B  Female  24.0  Black or African American   \n",
       "5.0    Hospital E    Male  31.0                      Other   \n",
       "\n",
       "                    ETHNICITY FINANCIAL_CLASS  SAME_DAY  \\\n",
       "INDEX                                                     \n",
       "1.0    Not Hispanic or Latino          MA MCO       0.0   \n",
       "2.0    Not Hispanic or Latino          MA MCO       1.0   \n",
       "3.0    Not Hispanic or Latino          MA MCO       1.0   \n",
       "4.0    Not Hispanic or Latino          MA MCO       1.0   \n",
       "5.0        Hispanic or Latino      Commercial       1.0   \n",
       "\n",
       "                                ED_RESULT     ACUITY_ARR          DC_RESULT  \\\n",
       "INDEX                                                                         \n",
       "1.0                                 Admit       3-Urgent  Home or Self Care   \n",
       "2.0    Left prior to completing treatment       3-Urgent  Home or Self Care   \n",
       "3.0                             Discharge  4-Less Urgent  Home or Self Care   \n",
       "4.0                             Discharge       3-Urgent  Home or Self Care   \n",
       "5.0                             Discharge  4-Less Urgent  Home or Self Care   \n",
       "\n",
       "         ...    CONSULT_ORDER  CONSULT_CHARGE  CONSULT_IN_ED  DIAGNOSIS  \\\n",
       "INDEX    ...                                                              \n",
       "1.0      ...              0.0             0.0            0.0        Yes   \n",
       "2.0      ...              0.0             0.0            0.0        Yes   \n",
       "3.0      ...              0.0             0.0            0.0        Yes   \n",
       "4.0      ...              0.0             0.0            0.0        Yes   \n",
       "5.0      ...              0.0             0.0            0.0        Yes   \n",
       "\n",
       "      DIAG_DETAILS     RISK  SEVERITY  CHARGES  RETURN  LONGSTAY  \n",
       "INDEX                                                             \n",
       "1.0            4.0    Minor  Moderate  9709.43       1         0  \n",
       "2.0            0.0  Unknown   Unknown  2371.55       0         0  \n",
       "3.0            0.0  Unknown   Unknown   407.36       0         0  \n",
       "4.0            0.0  Unknown   Unknown  3018.71       0         0  \n",
       "5.0            0.0  Unknown   Unknown  1045.68       0         0  \n",
       "\n",
       "[5 rows x 21 columns]"
      ]
     },
     "execution_count": 8,
     "metadata": {},
     "output_type": "execute_result"
    }
   ],
   "source": [
    "df_train.head()"
   ]
  },
  {
   "cell_type": "code",
   "execution_count": 9,
   "metadata": {},
   "outputs": [],
   "source": [
    "test_data_y.set_index('INDEX', inplace=True) #getting test labels\n",
    "test_data_y = test_data_y.dropna(subset=['RETURN']) # dropping rows that have NaN for predictor variable RETURN\n",
    "test_data_y['RETURN'] = pd.Series(np.where(test_data_y['RETURN'] == 'Yes', 1, 0),test_data_y.index)\n",
    "# Re-classifying RETURN into binary values"
   ]
  },
  {
   "cell_type": "code",
   "execution_count": 10,
   "metadata": {},
   "outputs": [
    {
     "data": {
      "text/plain": [
       "<matplotlib.axes._subplots.AxesSubplot at 0x1d88a3a4908>"
      ]
     },
     "execution_count": 10,
     "metadata": {},
     "output_type": "execute_result"
    },
    {
     "data": {
      "image/png": "[encoded data removed]",
      "text/plain": [
       "<Figure size 720x720 with 1 Axes>"
      ]
     },
     "metadata": {},
     "output_type": "display_data"
    }
   ],
   "source": [
    "# Looking at distribution of RETURN in training set\n",
    "sns.set(rc={'figure.figsize':(10,10)})\n",
    "df_train.groupby('RETURN').agg('count')['HOSPITAL'].sort_values().plot(kind='bar')"
   ]
  },
  {
   "cell_type": "code",
   "execution_count": 11,
   "metadata": {},
   "outputs": [
    {
     "data": {
      "text/plain": [
       "RETURN\n",
       "1     9384\n",
       "0    28696\n",
       "Name: HOSPITAL, dtype: int64"
      ]
     },
     "execution_count": 11,
     "metadata": {},
     "output_type": "execute_result"
    }
   ],
   "source": [
    "df_train.groupby('RETURN').agg('count')['HOSPITAL'].sort_values()"
   ]
  },
  {
   "cell_type": "code",
   "execution_count": 12,
   "metadata": {},
   "outputs": [
    {
     "data": {
      "image/png": "[encoded data removed]",
      "text/plain": [
       "<Figure size 720x720 with 1 Axes>"
      ]
     },
     "metadata": {},
     "output_type": "display_data"
    }
   ],
   "source": [
    "sns.set(rc={'figure.figsize':(10,10)})\n",
    "plt.scatter(df_train['RETURN'].astype(str), df_train['AGE'])\n",
    "plt.margins(x=0.5)\n",
    "plt.show()"
   ]
  },
  {
   "cell_type": "markdown",
   "metadata": {},
   "source": [
    "#### Age does not seem to affect hospital return rates"
   ]
  },
  {
   "cell_type": "code",
   "execution_count": 13,
   "metadata": {},
   "outputs": [
    {
     "data": {
      "text/plain": [
       "<matplotlib.axes._subplots.AxesSubplot at 0x1d88a549518>"
      ]
     },
     "execution_count": 13,
     "metadata": {},
     "output_type": "execute_result"
    },
    {
     "data": {
      "image/png": "[encoded data removed]",
      "text/plain": [
       "<Figure size 720x720 with 1 Axes>"
      ]
     },
     "metadata": {},
     "output_type": "display_data"
    }
   ],
   "source": [
    "df_dc_result = pd.DataFrame(df_train.groupby(['GENDER','RETURN']).agg('count')['HOSPITAL'].sort_values())\n",
    "df_dc_result.reset_index(inplace=True)\n",
    "#sns.set(rc={'figure.figsize':(10,10)})\n",
    "sns.barplot(x='GENDER', y='HOSPITAL', hue='RETURN', data=df_dc_result)"
   ]
  },
  {
   "cell_type": "markdown",
   "metadata": {},
   "source": [
    "#### Men seem to be more likely to return to the hospital compared to women"
   ]
  },
  {
   "cell_type": "code",
   "execution_count": 14,
   "metadata": {},
   "outputs": [
    {
     "data": {
      "text/plain": [
       "<matplotlib.axes._subplots.AxesSubplot at 0x1d88a4507b8>"
      ]
     },
     "execution_count": 14,
     "metadata": {},
     "output_type": "execute_result"
    },
    {
     "data": {
      "image/png": "[encoded data removed]",
      "text/plain": [
       "<Figure size 720x720 with 1 Axes>"
      ]
     },
     "metadata": {},
     "output_type": "display_data"
    }
   ],
   "source": [
    "df_dc_result = pd.DataFrame(df_train.groupby(['RISK','RETURN']).agg('count')['HOSPITAL'].sort_values())\n",
    "df_dc_result.reset_index(inplace=True)\n",
    "sns.set(rc={'figure.figsize':(10,10)})\n",
    "sns.barplot(x='RISK', y='HOSPITAL', hue='RETURN', data=df_dc_result)"
   ]
  },
  {
   "cell_type": "markdown",
   "metadata": {},
   "source": [
    "#### High Risk Patients seem to be very unlikely to return to the hospital"
   ]
  },
  {
   "cell_type": "code",
   "execution_count": 15,
   "metadata": {},
   "outputs": [
    {
     "data": {
      "text/plain": [
       "<matplotlib.axes._subplots.AxesSubplot at 0x1d88aa38780>"
      ]
     },
     "execution_count": 15,
     "metadata": {},
     "output_type": "execute_result"
    },
    {
     "data": {
      "image/png": "[encoded data removed]",
      "text/plain": [
       "<Figure size 720x720 with 2 Axes>"
      ]
     },
     "metadata": {},
     "output_type": "display_data"
    }
   ],
   "source": [
    "# calculate the correlation matrix\n",
    "corr = df_train.corr()\n",
    "\n",
    "# plot the heatmap\n",
    "sns.heatmap(corr, \n",
    "            xticklabels=corr.columns,\n",
    "            yticklabels=corr.columns,\n",
    "            cmap=\"YlGnBu\",\n",
    "            annot=True, \n",
    "            square=True, \n",
    "            linewidths=2, \n",
    "            fmt='.2f')"
   ]
  },
  {
   "cell_type": "markdown",
   "metadata": {},
   "source": [
    "### Machine Learning Models For Prediction\n",
    "\n",
    "Since CONSULT_ORDER and CONSULT_IN_ED had fairly high correlation, we are dropping CONSULT_IN_ED."
   ]
  },
  {
   "cell_type": "code",
   "execution_count": 16,
   "metadata": {},
   "outputs": [
    {
     "name": "stderr",
     "output_type": "stream",
     "text": [
      "C:\\Users\\prave\\Anaconda3\\lib\\site-packages\\pandas\\core\\frame.py:3697: SettingWithCopyWarning: \n",
      "A value is trying to be set on a copy of a slice from a DataFrame\n",
      "\n",
      "See the caveats in the documentation: http://pandas.pydata.org/pandas-docs/stable/indexing.html#indexing-view-versus-copy\n",
      "  errors=errors)\n"
     ]
    }
   ],
   "source": [
    "df_train.drop('CONSULT_IN_ED', axis = 1, inplace = True)\n",
    "df_test.drop('CONSULT_IN_ED', axis = 1, inplace = True)"
   ]
  },
  {
   "cell_type": "code",
   "execution_count": 17,
   "metadata": {},
   "outputs": [
    {
     "name": "stderr",
     "output_type": "stream",
     "text": [
      "C:\\Users\\prave\\Anaconda3\\lib\\site-packages\\ipykernel_launcher.py:4: SettingWithCopyWarning: \n",
      "A value is trying to be set on a copy of a slice from a DataFrame.\n",
      "Try using .loc[row_indexer,col_indexer] = value instead\n",
      "\n",
      "See the caveats in the documentation: http://pandas.pydata.org/pandas-docs/stable/indexing.html#indexing-view-versus-copy\n",
      "  after removing the cwd from sys.path.\n",
      "C:\\Users\\prave\\Anaconda3\\lib\\site-packages\\ipykernel_launcher.py:5: SettingWithCopyWarning: \n",
      "A value is trying to be set on a copy of a slice from a DataFrame.\n",
      "Try using .loc[row_indexer,col_indexer] = value instead\n",
      "\n",
      "See the caveats in the documentation: http://pandas.pydata.org/pandas-docs/stable/indexing.html#indexing-view-versus-copy\n",
      "  \"\"\"\n"
     ]
    }
   ],
   "source": [
    "le = preprocessing.LabelEncoder()\n",
    "for column_name in df_train.columns:\n",
    "    if df_train[column_name].dtype == object:\n",
    "        df_train[column_name] = le.fit_transform(df_train[column_name].astype(str))\n",
    "        df_train[column_name] = df_train[column_name].astype('category')\n",
    "    else:\n",
    "        pass"
   ]
  },
  {
   "cell_type": "code",
   "execution_count": 18,
   "metadata": {},
   "outputs": [],
   "source": [
    "le = preprocessing.LabelEncoder()\n",
    "for column_name in df_test.columns:\n",
    "    if df_test[column_name].dtype == object:\n",
    "        df_test[column_name] = le.fit_transform(df_test[column_name].astype(str))\n",
    "        df_test[column_name] = df_test[column_name].astype('category')\n",
    "    else:\n",
    "        pass"
   ]
  },
  {
   "cell_type": "code",
   "execution_count": 19,
   "metadata": {},
   "outputs": [
    {
     "name": "stdout",
     "output_type": "stream",
     "text": [
      "<class 'pandas.core.frame.DataFrame'>\n",
      "Float64Index: 38080 entries, 1.0 to 38221.0\n",
      "Data columns (total 20 columns):\n",
      "HOSPITAL           38080 non-null category\n",
      "GENDER             38080 non-null category\n",
      "AGE                38080 non-null float64\n",
      "RACE               38080 non-null category\n",
      "ETHNICITY          38080 non-null category\n",
      "FINANCIAL_CLASS    38080 non-null category\n",
      "SAME_DAY           38080 non-null float64\n",
      "ED_RESULT          38080 non-null category\n",
      "ACUITY_ARR         38080 non-null category\n",
      "DC_RESULT          38080 non-null category\n",
      "ADMIT_RESULT       38080 non-null category\n",
      "CONSULT_ORDER      38080 non-null float64\n",
      "CONSULT_CHARGE     38080 non-null float64\n",
      "DIAGNOSIS          38080 non-null category\n",
      "DIAG_DETAILS       38080 non-null float64\n",
      "RISK               38080 non-null category\n",
      "SEVERITY           38080 non-null category\n",
      "CHARGES            38080 non-null float64\n",
      "RETURN             38080 non-null int32\n",
      "LONGSTAY           38080 non-null int32\n",
      "dtypes: category(12), float64(6), int32(2)\n",
      "memory usage: 2.8 MB\n"
     ]
    }
   ],
   "source": [
    "df_train.info()"
   ]
  },
  {
   "cell_type": "code",
   "execution_count": 20,
   "metadata": {},
   "outputs": [],
   "source": [
    "X_train = df_train.loc[:, df_train.columns != 'RETURN']\n",
    "y_train = df_train.loc[:, df_train.columns == 'RETURN']\n",
    "X_test  = df_test.copy(deep = False)\n",
    "y_test = test_data_y.copy(deep = False) "
   ]
  },
  {
   "cell_type": "markdown",
   "metadata": {},
   "source": [
    "### Logistic Regression"
   ]
  },
  {
   "cell_type": "code",
   "execution_count": 21,
   "metadata": {},
   "outputs": [
    {
     "name": "stdout",
     "output_type": "stream",
     "text": [
      "Optimization terminated successfully.\n",
      "         Current function value: 0.531112\n",
      "         Iterations 7\n",
      "                         Results: Logit\n",
      "=================================================================\n",
      "Model:              Logit            Pseudo R-squared: 0.049     \n",
      "Dependent Variable: RETURN           AIC:              40487.5078\n",
      "Date:               2019-08-12 19:54 BIC:              40649.9092\n",
      "No. Observations:   38080            Log-Likelihood:   -20225.   \n",
      "Df Model:           18               LL-Null:          -21263.   \n",
      "Df Residuals:       38061            LLR p-value:      0.0000    \n",
      "Converged:          1.0000           Scale:            1.0000    \n",
      "No. Iterations:     7.0000                                       \n",
      "-----------------------------------------------------------------\n",
      "                  Coef.  Std.Err.    z     P>|z|   [0.025  0.975]\n",
      "-----------------------------------------------------------------\n",
      "HOSPITAL         -0.0070   0.0086  -0.8093 0.4183 -0.0238  0.0099\n",
      "GENDER            0.6397   0.0253  25.2494 0.0000  0.5900  0.6893\n",
      "AGE               0.0053   0.0008   6.5926 0.0000  0.0037  0.0068\n",
      "RACE             -0.0511   0.0045 -11.2976 0.0000 -0.0600 -0.0423\n",
      "ETHNICITY        -0.4851   0.0429 -11.3092 0.0000 -0.5692 -0.4010\n",
      "FINANCIAL_CLASS  -0.0321   0.0045  -7.0596 0.0000 -0.0409 -0.0232\n",
      "SAME_DAY         -0.2881   0.0606  -4.7535 0.0000 -0.4069 -0.1693\n",
      "ED_RESULT         0.0017   0.0053   0.3249 0.7453 -0.0087  0.0121\n",
      "ACUITY_ARR        0.1156   0.0100  11.5239 0.0000  0.0960  0.1353\n",
      "DC_RESULT         0.0200   0.0087   2.3092 0.0209  0.0030  0.0370\n",
      "ADMIT_RESULT      0.1086   0.0169   6.4216 0.0000  0.0755  0.1418\n",
      "CONSULT_ORDER    -0.2763   0.0819  -3.3745 0.0007 -0.4367 -0.1158\n",
      "CONSULT_CHARGE   -0.3745   0.2253  -1.6626 0.0964 -0.8160  0.0670\n",
      "DIAGNOSIS        -0.5477   0.0315 -17.3912 0.0000 -0.6094 -0.4860\n",
      "DIAG_DETAILS     -0.0278   0.0125  -2.2300 0.0257 -0.0522 -0.0034\n",
      "RISK             -0.0263   0.0400  -0.6577 0.5107 -0.1048  0.0521\n",
      "SEVERITY         -0.0831   0.0381  -2.1826 0.0291 -0.1577 -0.0085\n",
      "CHARGES          -0.0000   0.0000  -6.2004 0.0000 -0.0000 -0.0000\n",
      "LONGSTAY         -0.0362   0.1298  -0.2786 0.7805 -0.2907  0.2183\n",
      "=================================================================\n",
      "\n"
     ]
    }
   ],
   "source": [
    "logit_model=sm.Logit(y_train,X_train.astype(float))\n",
    "result=logit_model.fit()\n",
    "print(result.summary2())"
   ]
  },
  {
   "cell_type": "code",
   "execution_count": 22,
   "metadata": {},
   "outputs": [],
   "source": [
    "y_pred = result.predict(X_test.astype(float))\n",
    "fpr, tpr, thresholds = roc_curve(y_test, y_pred)\n",
    "s = \"The AUC is \"+str(auc(fpr,tpr))"
   ]
  },
  {
   "cell_type": "code",
   "execution_count": 23,
   "metadata": {},
   "outputs": [
    {
     "data": {
      "image/png": "[encoded data removed]",
      "text/plain": [
       "<Figure size 720x720 with 1 Axes>"
      ]
     },
     "metadata": {},
     "output_type": "display_data"
    }
   ],
   "source": [
    "##Computing false and true positive rates\n",
    "sns.set(rc={'figure.figsize':(10,10)})\n",
    "plt.figure()\n",
    "##Adding the ROC\n",
    "plt.plot(fpr, tpr, color='red',\n",
    " lw=2, label='ROC curve')\n",
    "##Random FPR and TPR\n",
    "plt.plot([0, 1], [0, 1], color='blue', lw=2, linestyle='--')\n",
    "##Title and label\n",
    "plt.xlabel('FPR')\n",
    "plt.ylabel('TPR')\n",
    "plt.text(0.7, 0.1, s, horizontalalignment='center', verticalalignment='center')\n",
    "plt.title('ROC curve')\n",
    "plt.show()"
   ]
  },
  {
   "cell_type": "code",
   "execution_count": 24,
   "metadata": {},
   "outputs": [
    {
     "data": {
      "image/png": "[encoded data removed]",
      "text/plain": [
       "<Figure size 720x720 with 1 Axes>"
      ]
     },
     "metadata": {},
     "output_type": "display_data"
    }
   ],
   "source": [
    "y_pred = [1 if x > 0.5 else 0 for x in y_pred]\n",
    "confusion_matrix = confusion_matrix(y_test, y_pred)\n",
    "with sns.axes_style('white'):\n",
    "    sns.heatmap(confusion_matrix,\n",
    "                cbar=False,\n",
    "                linecolor='black',\n",
    "                linewidth = 0.5,\n",
    "                square=False,\n",
    "                annot=True,\n",
    "                fmt='g',\n",
    "                cmap=ListedColormap(['white']),\n",
    "                linewidths=0.5)"
   ]
  },
  {
   "cell_type": "code",
   "execution_count": 25,
   "metadata": {},
   "outputs": [
    {
     "name": "stdout",
     "output_type": "stream",
     "text": [
      "Accuracy of logistic regression classifier on test set: 75.69 %\n"
     ]
    }
   ],
   "source": [
    "accuracy_logreg = ((confusion_matrix[0][0]+confusion_matrix[1][1])/np.sum(confusion_matrix))*100\n",
    "print('Accuracy of logistic regression classifier on test set: {:.2f} %'.format(accuracy_logreg))"
   ]
  },
  {
   "cell_type": "markdown",
   "metadata": {},
   "source": [
    "### Classification Tree"
   ]
  },
  {
   "cell_type": "code",
   "execution_count": 26,
   "metadata": {},
   "outputs": [
    {
     "data": {
      "text/plain": [
       "DecisionTreeClassifier(class_weight=None, criterion='gini', max_depth=7,\n",
       "            max_features=None, max_leaf_nodes=None,\n",
       "            min_impurity_decrease=0.0, min_impurity_split=None,\n",
       "            min_samples_leaf=5, min_samples_split=2,\n",
       "            min_weight_fraction_leaf=0.0, presort=False, random_state=100,\n",
       "            splitter='best')"
      ]
     },
     "execution_count": 26,
     "metadata": {},
     "output_type": "execute_result"
    }
   ],
   "source": [
    "clf_gini = DecisionTreeClassifier(criterion = \"gini\", random_state = 100, max_depth=7, min_samples_leaf=5)\n",
    "clf_gini.fit(X_train, y_train)"
   ]
  },
  {
   "cell_type": "code",
   "execution_count": 27,
   "metadata": {},
   "outputs": [],
   "source": [
    "y_pred_tree = clf_gini.predict(X_test)\n",
    "accuracy_tree = accuracy_score(y_test,y_pred_tree)*100"
   ]
  },
  {
   "cell_type": "code",
   "execution_count": 28,
   "metadata": {},
   "outputs": [
    {
     "data": {
      "image/png": "[encoded data removed]",
      "text/plain": [
       "<Figure size 720x720 with 1 Axes>"
      ]
     },
     "metadata": {},
     "output_type": "display_data"
    }
   ],
   "source": [
    "from sklearn.metrics import confusion_matrix\n",
    "#y_pred_tree = [1 if x > 0.5 else 0 for x in y_pred_tree]\n",
    "confusion_matrix_tree = confusion_matrix(y_test, y_pred_tree)\n",
    "with sns.axes_style('white'):\n",
    "    sns.heatmap(confusion_matrix_tree,\n",
    "                cbar=False,\n",
    "                linecolor='black',\n",
    "                linewidth = 0.5,\n",
    "                square=False,\n",
    "                annot=True,\n",
    "                fmt='g',\n",
    "                cmap=ListedColormap(['white']),\n",
    "                linewidths=0.5)"
   ]
  },
  {
   "cell_type": "code",
   "execution_count": 29,
   "metadata": {},
   "outputs": [
    {
     "name": "stdout",
     "output_type": "stream",
     "text": [
      "Accuracy is 76.79 %\n"
     ]
    }
   ],
   "source": [
    "print(\"Accuracy is {:.2f}\".format(accuracy_tree),\"%\")"
   ]
  },
  {
   "cell_type": "markdown",
   "metadata": {},
   "source": [
    "### KNN"
   ]
  },
  {
   "cell_type": "code",
   "execution_count": 30,
   "metadata": {},
   "outputs": [
    {
     "name": "stderr",
     "output_type": "stream",
     "text": [
      "C:\\Users\\prave\\Anaconda3\\lib\\site-packages\\ipykernel_launcher.py:7: DataConversionWarning: A column-vector y was passed when a 1d array was expected. Please change the shape of y to (n_samples, ), for example using ravel().\n",
      "  import sys\n"
     ]
    }
   ],
   "source": [
    "scaler = StandardScaler()\n",
    "scaler.fit(X_train.astype(float))\n",
    "\n",
    "X_train_knn = scaler.transform(X_train.astype(float))\n",
    "X_test_knn = scaler.transform(X_test.astype(float))\n",
    "classifier = KNeighborsClassifier(n_neighbors=5)\n",
    "classifier.fit(X_train_knn, y_train)\n",
    "y_pred_knn = classifier.predict(X_test_knn)"
   ]
  },
  {
   "cell_type": "code",
   "execution_count": 31,
   "metadata": {},
   "outputs": [
    {
     "data": {
      "image/png": "[encoded data removed]",
      "text/plain": [
       "<Figure size 720x720 with 1 Axes>"
      ]
     },
     "metadata": {},
     "output_type": "display_data"
    }
   ],
   "source": [
    "from sklearn.metrics import confusion_matrix\n",
    "# y_pred_tree = [1 if x > 0.5 else 0 for x in y_pred_tree]\n",
    "confusion_matrix_knn = confusion_matrix(y_test, y_pred_knn)\n",
    "with sns.axes_style('white'):\n",
    "    sns.heatmap(confusion_matrix_knn,\n",
    "                cbar=False,\n",
    "                linecolor='black',\n",
    "                linewidth = 0.5,\n",
    "                square=False,\n",
    "                annot=True,\n",
    "                fmt='g',\n",
    "                cmap=ListedColormap(['white']),\n",
    "                linewidths=0.5)"
   ]
  },
  {
   "cell_type": "code",
   "execution_count": 32,
   "metadata": {},
   "outputs": [
    {
     "name": "stdout",
     "output_type": "stream",
     "text": [
      "Accuracy of logistic regression classifier on test set: 74.97 %\n"
     ]
    }
   ],
   "source": [
    "accuracy_knn = accuracy_score(y_test,y_pred_knn)*100\n",
    "print('Accuracy of logistic regression classifier on test set: {:.2f} %'.format(accuracy_knn))"
   ]
  },
  {
   "cell_type": "markdown",
   "metadata": {},
   "source": [
    "### Random Forest"
   ]
  },
  {
   "cell_type": "code",
   "execution_count": 33,
   "metadata": {},
   "outputs": [
    {
     "name": "stderr",
     "output_type": "stream",
     "text": [
      "C:\\Users\\prave\\Anaconda3\\lib\\site-packages\\ipykernel_launcher.py:2: DataConversionWarning: A column-vector y was passed when a 1d array was expected. Please change the shape of y to (n_samples,), for example using ravel().\n",
      "  \n"
     ]
    }
   ],
   "source": [
    "clf=RandomForestClassifier(n_estimators=50) #Create a Gaussian Classifier\n",
    "clf.fit(X_train,y_train) #Train the model using the training sets y_pred=clf.predict(X_test)\n",
    "y_pred_RandomForest=clf.predict(X_test)"
   ]
  },
  {
   "cell_type": "code",
   "execution_count": 34,
   "metadata": {},
   "outputs": [
    {
     "data": {
      "image/png": "[encoded data removed]",
      "text/plain": [
       "<Figure size 720x720 with 1 Axes>"
      ]
     },
     "metadata": {},
     "output_type": "display_data"
    }
   ],
   "source": [
    "from sklearn.metrics import confusion_matrix\n",
    "# y_pred_tree = [1 if x > 0.5 else 0 for x in y_pred_tree]\n",
    "confusion_matrix_rf = confusion_matrix(y_test, y_pred_RandomForest)\n",
    "with sns.axes_style('white'):\n",
    "    sns.heatmap(confusion_matrix_rf,\n",
    "                cbar=False,\n",
    "                linecolor='black',\n",
    "                linewidth = 0.5,\n",
    "                square=False,\n",
    "                annot=True,\n",
    "                fmt='g',\n",
    "                cmap=ListedColormap(['white']),\n",
    "                linewidths=0.5)"
   ]
  },
  {
   "cell_type": "code",
   "execution_count": 35,
   "metadata": {},
   "outputs": [
    {
     "name": "stdout",
     "output_type": "stream",
     "text": [
      "Accuracy is 76.64 %\n"
     ]
    }
   ],
   "source": [
    "accuracy_rf = accuracy_score(y_test,y_pred_RandomForest)*100\n",
    "print(\"Accuracy is {:.2f}\".format(accuracy_rf),\"%\")\n",
    "# print(\"Accuracy: \",accuracy_score(y_test, y_pred_RandomForest))"
   ]
  },
  {
   "cell_type": "markdown",
   "metadata": {},
   "source": [
    "### XGBoost"
   ]
  },
  {
   "cell_type": "code",
   "execution_count": 36,
   "metadata": {},
   "outputs": [
    {
     "name": "stderr",
     "output_type": "stream",
     "text": [
      "C:\\Users\\prave\\Anaconda3\\lib\\site-packages\\sklearn\\preprocessing\\label.py:219: DataConversionWarning: A column-vector y was passed when a 1d array was expected. Please change the shape of y to (n_samples, ), for example using ravel().\n",
      "  y = column_or_1d(y, warn=True)\n",
      "C:\\Users\\prave\\Anaconda3\\lib\\site-packages\\sklearn\\preprocessing\\label.py:252: DataConversionWarning: A column-vector y was passed when a 1d array was expected. Please change the shape of y to (n_samples, ), for example using ravel().\n",
      "  y = column_or_1d(y, warn=True)\n"
     ]
    }
   ],
   "source": [
    "model = XGBClassifier()\n",
    "model.fit(X_train.astype(float), y_train)\n",
    "y_pred_XGBoost=model.predict(X_test.astype(float))"
   ]
  },
  {
   "cell_type": "code",
   "execution_count": 37,
   "metadata": {},
   "outputs": [
    {
     "data": {
      "image/png": "[encoded data removed]",
      "text/plain": [
       "<Figure size 720x720 with 1 Axes>"
      ]
     },
     "metadata": {},
     "output_type": "display_data"
    }
   ],
   "source": [
    "from sklearn.metrics import confusion_matrix\n",
    "# y_pred_tree = [1 if x > 0.5 else 0 for x in y_pred_tree]\n",
    "confusion_matrix_xgboost = confusion_matrix(y_test, y_pred_XGBoost)\n",
    "with sns.axes_style('white'):\n",
    "    sns.heatmap(confusion_matrix_xgboost,\n",
    "                cbar=False,\n",
    "                linecolor='black',\n",
    "                linewidth = 0.5,\n",
    "                square=False,\n",
    "                annot=True,\n",
    "                fmt='g',\n",
    "                cmap=ListedColormap(['white']),\n",
    "                linewidths=0.5)"
   ]
  },
  {
   "cell_type": "code",
   "execution_count": 38,
   "metadata": {},
   "outputs": [
    {
     "name": "stdout",
     "output_type": "stream",
     "text": [
      "Accuracy is 77.16 %\n"
     ]
    }
   ],
   "source": [
    "accuracy_xgboost = accuracy_score(y_test,y_pred_XGBoost)*100\n",
    "print(\"Accuracy is {:.2f}\".format(accuracy_xgboost),\"%\")\n",
    "# print(\"Accuracy: \",accuracy_score(y_test, y_pred_RandomForest))"
   ]
  },
  {
   "cell_type": "markdown",
   "metadata": {},
   "source": [
    "### Model Comparison"
   ]
  },
  {
   "cell_type": "code",
   "execution_count": 39,
   "metadata": {},
   "outputs": [
    {
     "data": {
      "image/png": "[encoded data removed]",
      "text/plain": [
       "<Figure size 720x720 with 1 Axes>"
      ]
     },
     "metadata": {},
     "output_type": "display_data"
    }
   ],
   "source": [
    "models   = ['Logistic','Classification Tree','KNN','Random Forest','XGBoost']\n",
    "accuracy = [accuracy_logreg, accuracy_tree, accuracy_knn, accuracy_rf,accuracy_xgboost]\n",
    "#dict_models = dict(zip(models,accuracy))\n",
    "#df_models = pd.DataFrame.from_dict(dict_models, orient='index')\n",
    "#df_models.sort_values(by=0).plot(kind='bar', figsize = (8,8), legend=False, ylim=(70,80))\n",
    "\n",
    "plt.bar(models,accuracy)\n",
    "for x,y in zip(models,accuracy):\n",
    "\n",
    "    label = \"{:.2f}\".format(y)\n",
    "\n",
    "    plt.annotate(label, # this is the text\n",
    "                 (x,y), # this is the point to label\n",
    "                 textcoords=\"offset points\", # how to position the text\n",
    "                 xytext=(0,20), # distance from text to points (x,y)\n",
    "                 ha='center') # horizontal alignment can be left, right or center\n",
    "\n",
    "fig_size = plt.rcParams[\"figure.figsize\"]\n",
    "\n",
    "x1,x2,y1,y2 = plt.axis()\n",
    "plt.axis((x1,x2,70,80))\n",
    "\n",
    "plt.show()"
   ]
  }
 ],
 "metadata": {
  "kernelspec": {
   "display_name": "Python 3",
   "language": "python",
   "name": "python3"
  },
  "language_info": {
   "codemirror_mode": {
    "name": "ipython",
    "version": 3
   },
   "file_extension": ".py",
   "mimetype": "text/x-python",
   "name": "python",
   "nbconvert_exporter": "python",
   "pygments_lexer": "ipython3",
   "version": "3.7.1"
  }
 },
 "nbformat": 4,
 "nbformat_minor": 2
}
